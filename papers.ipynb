{
 "cells": [
  {
   "cell_type": "markdown",
   "source": [
    "# Summarization of Research Papers\n",
    "This document is meant to summarize the papers read during the Research Training, started on 30 July.\n",
    "## 4CAC: 4-class classification of metagenome assemblies using machine learning and assembly graphs\n",
    "Link: [https://www.biorxiv.org/content/10.1101/2023.01.20.524935v1.full.pdf](https://www.biorxiv.org/content/10.1101/2023.01.20.524935v1.full.pdf \"‌\")\n",
    "\n",
    "### Evaluation criteria\n",
    "* $ Precision = \\frac{True Positive}{True Positive + False Positive} $ \n",
    "\n",
    "* $ Recall = \\frac{True Positive}{True Positive + False Negative} $ \n",
    "\n",
    "* $ F1 Score = \\frac{2 * Precision * Recall}{Precision + Recall} $ \n",
    "\n",
    "### Summary\n",
    "\n",
    "The paper introduces a novel classifier called 4CAC that identifies 4 classes of microbial entities, namely, phages, plasmids, prokaryotes, and microeukaryotes, in metagenome assemblies simultaneously.\n",
    "\n",
    "This system utilizes XGBoost algorithms and the assembly graph.\n",
    "\n",
    "### Key Points\n",
    "\n",
    "- While bacteria have been widely studied as the dominant species in the microbial communities, our understanding of phases, plasmids, and microeukaryotes lags behind _due to lower abundance._ The latter species are crucial in horizontal gene trasnfer and antibiotic resistance.\n",
    "- The XGBoost classifier is trained and tested on all complete assemblies from the NCBI GenBank database. Several XGBoost models are trained for different sequence lengths.\n",
    "- The classification is refined using the assembly graph, in which nodes represent contigs and edges represent subsequence overlaps between the corresponding contigs.\n",
    "- 4CAC works well on _short-read_ assemblies.\n",
    "\n",
    "### Potential Areas for Improvement\n",
    "\n",
    "- Classification of underrepresented classes in real datasets lags behind other classifiers. Thus, more refined algorithms, e.g. Deep Learning models, can be explored to enhance the precision of 4CAC.\n",
    "- 4CAC’s performance on long-reads can be improved.\n",
    "- Graph-based approach can be refined.\n"
   ],
   "metadata": {
    "collapsed": false
   },
   "id": "61dd0b32ed0a4611"
  },
  {
   "cell_type": "markdown",
   "source": [
    "## Terms and Definitions\n",
    "**Genomics**: focuses on studying the entire genetic material () of a *single organism*\n",
    "\n",
    "**Metagenomics**: focuses on studying the genetic material from *multiple organisms* found in a mixed sample\n",
    "\n",
    "**Phage (Bacteriophage)**: specifically infects and replicates within bacteria. Phages play a key role in controlling bacterial populations in nature and can influence microbial ecosystems\n",
    "\n",
    "**Horizontal Gene Transfer (HGT)**: the process by which an organism transfers genetics material to another organism that is not its offspring\n",
    "* Why is HGT important?\n",
    "⋅⋅* Spread of antibiotic resistance: bacteria can pass genes that confer resistance to antibiotics, even across species, making infections harder to treat\n",
    "⋅⋅* Evolution and adaptation: HGT allows for rapid evolution, enabling organisms to quickly acquire traits that help them survive in new environments or under changing conditions \n",
    "* How is HGT done?\n",
    "⋅⋅* Transduction: transfer of DNA between bacteria by viruses (phages)\n",
    "⋅⋅* Conjugation: transfer of DNA through direct contact between 2 cells. **Plasmids** are small, circular DNA molecules that exist independently of a bacterial chromosome. A bacterium with a plasmid transfers it to another bacterium via a physical connection, called Pilus.\n",
    "⋅⋅* Transformation: uptake of free DNA from the environment by a cell. **Microeukaryotes** may release or uptake free DNA in such a way \n",
    "\n",
    "**Vertical Gene Transfer (VGT)**: the process by which genes are transferred from parent to offspring through reproduction"
   ],
   "metadata": {
    "collapsed": false
   },
   "id": "50ff077931110f8e"
  },
  {
   "cell_type": "code",
   "outputs": [],
   "source": [],
   "metadata": {
    "collapsed": false
   },
   "id": "d4541132cb32b0d6"
  }
 ],
 "metadata": {
  "kernelspec": {
   "display_name": "Python 3",
   "language": "python",
   "name": "python3"
  },
  "language_info": {
   "codemirror_mode": {
    "name": "ipython",
    "version": 2
   },
   "file_extension": ".py",
   "mimetype": "text/x-python",
   "name": "python",
   "nbconvert_exporter": "python",
   "pygments_lexer": "ipython2",
   "version": "2.7.6"
  }
 },
 "nbformat": 4,
 "nbformat_minor": 5
}
