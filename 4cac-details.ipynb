{
 "cells": [
  {
   "cell_type": "markdown",
   "source": [
    "# Assembly Graph in 4CAC\n",
    "## Different Assemblers: metaSPAdes vs. metaFlye\n",
    "## Function: `readAssemblyGraph(file_graph, flyeAssembler)`\n",
    "The `readAssemblyGraph()` function is the core method responsible for reading the assembly graph from the respective assembler output.\n",
    "- The function first opens the file passed in as `file_graph` (either the `.gfa` from SPAdes or `assembly_info.txt` from Flye).\n",
    "- **Nodes** represent the contigs. Each contig is essentially a segment of DNA, and in the assembly graph, nodes contain details about these contigs, such as their length, sequence, and identifiers.\n",
    "- **Edges** represent overlaps between contigs. An edge between two nodes implies that those contigs are adjacent or overlap based on the sequencing data.\n",
    "\n",
    "\n",
    "## Function: `contigCategoryToNodes()`\n",
    "- Reads the classification results from the XGBoost output file.\n",
    "- Each contig has classification scores for four classes: phage, plasmid, prokaryote, and eukaryote.\n",
    "- Based on the score and length of the contig, it classifies each contig and assigns that classification to the nodes in the assembly graph.\n",
    "- If nodes are part of multiple contigs and have conflicting classifications, they are marked as unclassified.\n",
    "\n",
    "## Correction: `correctionMaxAdj`\n",
    "This function corrects nodes’ classifications based on their neighbors in the graph. If a node has conflicting adjacent classifications, the majority vote among adjacent nodes helps resolve conflicts.\n",
    "\n",
    "## Propagation: `propagationMaxAdj`\n",
    "Unclassified nodes are assigned a classification based on their neighbors’ classifications. This helps propagate classifications across the graph where no initial classification was available.\n",
    "\n",
    "## Final Classification: `finalContigClassifyFromEdges`\n",
    "Once the nodes in the graph are classified, the final step is to determine the classification for each contig based on the nodes it spans. The contig is assigned the class that dominates (e.g., if 80% of the contig’s nodes are classified as phage, the contig is labeled as phage).\n",
    "Contigs that do not meet this threshold are marked as uncertain.\n",
    "\n",
    "\n",
    " \n"
   ],
   "metadata": {
    "collapsed": false
   },
   "id": "4682102e77e818f4"
  },
  {
   "cell_type": "markdown",
   "source": [],
   "metadata": {
    "collapsed": false
   },
   "id": "ab4df75f8a430292"
  }
 ],
 "metadata": {
  "kernelspec": {
   "display_name": "Python 3",
   "language": "python",
   "name": "python3"
  },
  "language_info": {
   "codemirror_mode": {
    "name": "ipython",
    "version": 2
   },
   "file_extension": ".py",
   "mimetype": "text/x-python",
   "name": "python",
   "nbconvert_exporter": "python",
   "pygments_lexer": "ipython2",
   "version": "2.7.6"
  }
 },
 "nbformat": 4,
 "nbformat_minor": 5
}
